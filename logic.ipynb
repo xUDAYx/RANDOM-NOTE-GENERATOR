{
 "cells": [
  {
   "cell_type": "code",
   "execution_count": 18,
   "metadata": {},
   "outputs": [],
   "source": [
    "import os\n",
    "import random\n",
    "from PIL import Image\n",
    "import cv2"
   ]
  },
  {
   "cell_type": "code",
   "execution_count": 2,
   "metadata": {},
   "outputs": [],
   "source": [
    "class wordlist:\n",
    "    def random_word(self):\n",
    "        alphabates = ['A', 'B', 'C', 'D','E', 'F', 'G', 'H', 'I', 'J', 'K', 'L', 'M', 'N', 'O', 'P', 'Q', 'R', 'S', 'T', 'U', 'V', 'W', 'X', 'Y', 'Z']\n",
    "        random_word = random.choice(alphabates)\n",
    "        return random_word"
   ]
  },
  {
   "cell_type": "code",
   "execution_count": 3,
   "metadata": {},
   "outputs": [],
   "source": [
    "choise = wordlist()\n",
    "word = choise.random_word()"
   ]
  },
  {
   "cell_type": "code",
   "execution_count": 4,
   "metadata": {},
   "outputs": [
    {
     "name": "stdout",
     "output_type": "stream",
     "text": [
      "A\n"
     ]
    }
   ],
   "source": [
    "print(word)"
   ]
  },
  {
   "cell_type": "code",
   "execution_count": 6,
   "metadata": {},
   "outputs": [],
   "source": [
    "dataset = \"C:\\DYPIU\\___________________CODE___________________\\Random Word Genrator\\dataset\""
   ]
  },
  {
   "cell_type": "markdown",
   "metadata": {},
   "source": [
    "LIST OF FOLDERS"
   ]
  },
  {
   "cell_type": "code",
   "execution_count": 9,
   "metadata": {},
   "outputs": [
    {
     "data": {
      "text/plain": [
       "['0',\n",
       " '1',\n",
       " '2',\n",
       " '3',\n",
       " '4',\n",
       " '5',\n",
       " '6',\n",
       " '7',\n",
       " '8',\n",
       " '9',\n",
       " 'A',\n",
       " 'B',\n",
       " 'C',\n",
       " 'D',\n",
       " 'E',\n",
       " 'F',\n",
       " 'G',\n",
       " 'H',\n",
       " 'I',\n",
       " 'J',\n",
       " 'K',\n",
       " 'L',\n",
       " 'M',\n",
       " 'N',\n",
       " 'O',\n",
       " 'P',\n",
       " 'Q',\n",
       " 'R',\n",
       " 'S',\n",
       " 'T',\n",
       " 'U',\n",
       " 'V',\n",
       " 'W',\n",
       " 'X',\n",
       " 'Y',\n",
       " 'Z']"
      ]
     },
     "execution_count": 9,
     "metadata": {},
     "output_type": "execute_result"
    }
   ],
   "source": [
    "folders = [folder for folder in os.listdir(dataset) if os.path.isdir(os.path.join(dataset, folder))]\n",
    "folders"
   ]
  },
  {
   "cell_type": "markdown",
   "metadata": {},
   "source": [
    "FOR RANDOM FOLDER SELECTION"
   ]
  },
  {
   "cell_type": "code",
   "execution_count": 45,
   "metadata": {},
   "outputs": [],
   "source": [
    "random_folder = random.choice(folders)"
   ]
  },
  {
   "cell_type": "code",
   "execution_count": 46,
   "metadata": {},
   "outputs": [
    {
     "data": {
      "text/plain": [
       "['F.png', 'F2.png', 'F3.png', 'F4.png']"
      ]
     },
     "execution_count": 46,
     "metadata": {},
     "output_type": "execute_result"
    }
   ],
   "source": [
    "images = [img for img in os.listdir(os.path.join(dataset, random_folder)) if img.endswith(\".jpg\") or img.endswith(\".png\")]\n",
    "images"
   ]
  },
  {
   "cell_type": "code",
   "execution_count": 47,
   "metadata": {},
   "outputs": [],
   "source": [
    "random_image = random.choice(images)"
   ]
  },
  {
   "cell_type": "code",
   "execution_count": 49,
   "metadata": {},
   "outputs": [],
   "source": [
    "image_path = os.path.join(dataset, random_folder, random_image)\n",
    "image = cv2.imread(image_path)\n"
   ]
  },
  {
   "cell_type": "code",
   "execution_count": 50,
   "metadata": {},
   "outputs": [],
   "source": [
    "cv2.imshow(\"Random Image\", image)\n",
    "cv2.waitKey(0)\n",
    "cv2.destroyAllWindows()"
   ]
  },
  {
   "cell_type": "markdown",
   "metadata": {},
   "source": [
    "MAIN LOGIC\n"
   ]
  },
  {
   "cell_type": "code",
   "execution_count": 51,
   "metadata": {},
   "outputs": [],
   "source": [
    "word = input(\"Enter a word: \").upper()"
   ]
  },
  {
   "cell_type": "code",
   "execution_count": 52,
   "metadata": {},
   "outputs": [],
   "source": [
    "# Create an empty list to store resized images\n",
    "resized_images = []\n",
    "\n",
    "# Iterate over each letter in the word\n",
    "for letter in word:\n",
    "    # Check if the folder corresponding to the letter exists\n",
    "    letter_folder_path = os.path.join(dataset, letter)\n",
    "    if os.path.isdir(letter_folder_path):\n",
    "        # Get list of image files in the folder\n",
    "        images_in_folder = [img for img in os.listdir(letter_folder_path) if img.endswith(\".jpg\") or img.endswith(\".png\")]\n",
    "\n",
    "        if images_in_folder:\n",
    "            # Randomly select an image from the folder\n",
    "            random_image_name = random.choice(images_in_folder)\n",
    "            # Construct the path to the randomly selected image\n",
    "            image_path = os.path.join(letter_folder_path, random_image_name)\n",
    "\n",
    "            # Read the image using OpenCV\n",
    "            image = cv2.imread(image_path)\n",
    "            # Resize the image to 250x250 pixels\n",
    "            resized_image = cv2.resize(image, (250, 250))\n",
    "            resized_images.append(resized_image)\n",
    "        else:\n",
    "            print(\"No images found for the letter:\", letter)\n",
    "    else:\n",
    "        print(\"Folder not found for the letter:\", letter)"
   ]
  },
  {
   "cell_type": "code",
   "execution_count": 55,
   "metadata": {},
   "outputs": [
    {
     "name": "stdout",
     "output_type": "stream",
     "text": [
      "Concatenated image saved successfully as: output_folder\\concatenated_image.jpg\n"
     ]
    }
   ],
   "source": [
    "if resized_images:\n",
    "    concatenated_images = cv2.hconcat(resized_images)\n",
    "\n",
    "    # Display the concatenated image in a window\n",
    "    cv2.imshow(\"Concatenated Images\", concatenated_images)\n",
    "    cv2.waitKey(0)\n",
    "    cv2.destroyAllWindows()\n",
    "\n",
    "    # Save the concatenated image\n",
    "    output_folder = \"output_folder\"\n",
    "    if not os.path.exists(output_folder):\n",
    "        os.makedirs(output_folder)\n",
    "    output_image_path = os.path.join(output_folder, \"concatenated_image.jpg\")\n",
    "    cv2.imwrite(output_image_path, concatenated_images)\n",
    "    print(\"Concatenated image saved successfully as:\", output_image_path)\n",
    "else:\n",
    "    print(\"No images found for the input word.\")"
   ]
  },
  {
   "cell_type": "code",
   "execution_count": null,
   "metadata": {},
   "outputs": [],
   "source": []
  },
  {
   "cell_type": "code",
   "execution_count": null,
   "metadata": {},
   "outputs": [],
   "source": []
  }
 ],
 "metadata": {
  "kernelspec": {
   "display_name": "Python 3",
   "language": "python",
   "name": "python3"
  },
  "language_info": {
   "codemirror_mode": {
    "name": "ipython",
    "version": 3
   },
   "file_extension": ".py",
   "mimetype": "text/x-python",
   "name": "python",
   "nbconvert_exporter": "python",
   "pygments_lexer": "ipython3",
   "version": "3.11.1"
  }
 },
 "nbformat": 4,
 "nbformat_minor": 2
}
